{
  "nbformat": 4,
  "nbformat_minor": 0,
  "metadata": {
    "colab": {
      "provenance": [],
      "toc_visible": true,
      "include_colab_link": true
    },
    "kernelspec": {
      "name": "python3",
      "display_name": "Python 3"
    },
    "gpuClass": "standard"
  },
  "cells": [
    {
      "cell_type": "markdown",
      "metadata": {
        "id": "view-in-github",
        "colab_type": "text"
      },
      "source": [
        "<a href=\"https://colab.research.google.com/github/ridha-mm/comp-astro/blob/main/Python_Multiprocessing.ipynb\" target=\"_parent\"><img src=\"https://colab.research.google.com/assets/colab-badge.svg\" alt=\"Open In Colab\"/></a>"
      ]
    },
    {
      "cell_type": "code",
      "metadata": {
        "id": "v18n0F4awZIc",
        "colab": {
          "base_uri": "https://localhost:8080/"
        },
        "outputId": "1744d7dd-4d82-40d7-a9a6-c907307d3e2c"
      },
      "source": [
        "!pip install pathos #Multi processing\n",
        "!pip install tqdm #Progress bar\n",
        "!pip install TextBlob #Sentiment analysis\n",
        "\n",
        "from pathos.multiprocessing import ProcessPool\n",
        "from textblob import TextBlob\n",
        "from tqdm import tqdm "
      ],
      "execution_count": 1,
      "outputs": [
        {
          "output_type": "stream",
          "name": "stdout",
          "text": [
            "Looking in indexes: https://pypi.org/simple, https://us-python.pkg.dev/colab-wheels/public/simple/\n",
            "Collecting pathos\n",
            "  Downloading pathos-0.3.0-py3-none-any.whl (79 kB)\n",
            "\u001b[2K     \u001b[90m━━━━━━━━━━━━━━━━━━━━━━━━━━━━━━━━━━━━━━━━\u001b[0m \u001b[32m79.8/79.8 kB\u001b[0m \u001b[31m6.0 MB/s\u001b[0m eta \u001b[36m0:00:00\u001b[0m\n",
            "\u001b[?25hCollecting ppft>=1.7.6.6 (from pathos)\n",
            "  Downloading ppft-1.7.6.6-py3-none-any.whl (52 kB)\n",
            "\u001b[2K     \u001b[90m━━━━━━━━━━━━━━━━━━━━━━━━━━━━━━━━━━━━━━━━\u001b[0m \u001b[32m52.8/52.8 kB\u001b[0m \u001b[31m7.1 MB/s\u001b[0m eta \u001b[36m0:00:00\u001b[0m\n",
            "\u001b[?25hCollecting dill>=0.3.6 (from pathos)\n",
            "  Downloading dill-0.3.6-py3-none-any.whl (110 kB)\n",
            "\u001b[2K     \u001b[90m━━━━━━━━━━━━━━━━━━━━━━━━━━━━━━━━━━━━━━\u001b[0m \u001b[32m110.5/110.5 kB\u001b[0m \u001b[31m10.3 MB/s\u001b[0m eta \u001b[36m0:00:00\u001b[0m\n",
            "\u001b[?25hCollecting pox>=0.3.2 (from pathos)\n",
            "  Downloading pox-0.3.2-py3-none-any.whl (29 kB)\n",
            "Collecting multiprocess>=0.70.14 (from pathos)\n",
            "  Downloading multiprocess-0.70.14-py310-none-any.whl (134 kB)\n",
            "\u001b[2K     \u001b[90m━━━━━━━━━━━━━━━━━━━━━━━━━━━━━━━━━━━━━━\u001b[0m \u001b[32m134.3/134.3 kB\u001b[0m \u001b[31m18.5 MB/s\u001b[0m eta \u001b[36m0:00:00\u001b[0m\n",
            "\u001b[?25hInstalling collected packages: ppft, pox, dill, multiprocess, pathos\n",
            "Successfully installed dill-0.3.6 multiprocess-0.70.14 pathos-0.3.0 pox-0.3.2 ppft-1.7.6.6\n",
            "Looking in indexes: https://pypi.org/simple, https://us-python.pkg.dev/colab-wheels/public/simple/\n",
            "Requirement already satisfied: tqdm in /usr/local/lib/python3.10/dist-packages (4.65.0)\n",
            "Looking in indexes: https://pypi.org/simple, https://us-python.pkg.dev/colab-wheels/public/simple/\n",
            "Requirement already satisfied: TextBlob in /usr/local/lib/python3.10/dist-packages (0.17.1)\n",
            "Requirement already satisfied: nltk>=3.1 in /usr/local/lib/python3.10/dist-packages (from TextBlob) (3.8.1)\n",
            "Requirement already satisfied: click in /usr/local/lib/python3.10/dist-packages (from nltk>=3.1->TextBlob) (8.1.3)\n",
            "Requirement already satisfied: joblib in /usr/local/lib/python3.10/dist-packages (from nltk>=3.1->TextBlob) (1.2.0)\n",
            "Requirement already satisfied: regex>=2021.8.3 in /usr/local/lib/python3.10/dist-packages (from nltk>=3.1->TextBlob) (2022.10.31)\n",
            "Requirement already satisfied: tqdm in /usr/local/lib/python3.10/dist-packages (from nltk>=3.1->TextBlob) (4.65.0)\n"
          ]
        }
      ]
    },
    {
      "cell_type": "markdown",
      "metadata": {
        "id": "_l1wxwn10Pr1"
      },
      "source": [
        "#Create a process pool\n",
        "\n",
        "Pools are a group of poccesses where you will send tasks. Inside you will define the number of processes to create. By defualt it will be number of CPU cores, however you **can** define more than that. \n",
        "\n",
        "Scheduling more processes than you have CPU cores can increase performance where the processes run into wait times or I/O"
      ]
    },
    {
      "cell_type": "code",
      "metadata": {
        "id": "hIgmDOjPxdJ8"
      },
      "source": [
        "pool = ProcessPool(nodes=3)"
      ],
      "execution_count": 39,
      "outputs": []
    },
    {
      "cell_type": "markdown",
      "metadata": {
        "id": "OsQo-nam05hw"
      },
      "source": [
        "#Functions\n",
        "\n",
        "Map methods provided:\n",
        "\n",
        "\n",
        "    map         - blocking and ordered worker pool        [returns: list]\n",
        "    imap        - non-blocking and ordered worker pool    [returns: iterator]\n",
        "    uimap       - non-blocking and unordered worker pool  [returns: iterator]\n",
        "    amap        - asynchronous worker pool                [returns: object]\n",
        "\n",
        "Blocking: handles jobs in batches rather than 1 by 1\n",
        "\n",
        "Ordered: Batches must be completed in order"
      ]
    },
    {
      "cell_type": "code",
      "metadata": {
        "id": "sm3mZtOL0DL4",
        "colab": {
          "base_uri": "https://localhost:8080/"
        },
        "outputId": "a804317b-904b-48ca-c2e0-c21f7c1ac555"
      },
      "source": [
        "#pool.map(function to run, data to run it on, other arguments )\n",
        "\n",
        "pool.map(pow, [1,2,3,4], [5,6,7,8])"
      ],
      "execution_count": 3,
      "outputs": [
        {
          "output_type": "execute_result",
          "data": {
            "text/plain": [
              "[1, 64, 2187, 65536]"
            ]
          },
          "metadata": {},
          "execution_count": 3
        }
      ]
    },
    {
      "cell_type": "code",
      "metadata": {
        "id": "hjNaN7_m3T6L",
        "colab": {
          "base_uri": "https://localhost:8080/"
        },
        "outputId": "9866f871-091f-407d-bffe-46ef52c30d20"
      },
      "source": [
        "#Iterate through the returned data using imap\n",
        "for x in pool.imap(pow, [1,2,3,4], [5,6,7,8]):\n",
        "  print(x)"
      ],
      "execution_count": 4,
      "outputs": [
        {
          "output_type": "stream",
          "name": "stdout",
          "text": [
            "1\n",
            "64\n",
            "2187\n",
            "65536\n"
          ]
        }
      ]
    },
    {
      "cell_type": "code",
      "metadata": {
        "id": "JMOQpbdc3hbW",
        "colab": {
          "base_uri": "https://localhost:8080/"
        },
        "outputId": "cdaa4a1f-3ab7-4bf2-e17a-6bc3f4dc3fc4"
      },
      "source": [
        "# do an asynchronous map, then get the results\n",
        "import time\n",
        "\n",
        "results = pool.amap(pow, [1,2,3,4], [5,6,7,8])\n",
        "while not results.ready():\n",
        "  time.sleep(5); print(\".\", end=' ')"
      ],
      "execution_count": 5,
      "outputs": [
        {
          "output_type": "stream",
          "name": "stdout",
          "text": [
            ". "
          ]
        }
      ]
    },
    {
      "cell_type": "markdown",
      "metadata": {
        "id": "8dhDD4OP6IOm"
      },
      "source": [
        "#Build your function\n",
        "First lets build a function that can take a line of text and produce the sentiment"
      ]
    },
    {
      "cell_type": "code",
      "metadata": {
        "id": "adnqGeUoNL-Q"
      },
      "source": [
        "  def get_sentiment(text):\n",
        "      from textblob import TextBlob\n",
        "      blob = TextBlob(text)\n",
        "      score = blob.sentiment.polarity\n",
        "      return score"
      ],
      "execution_count": 6,
      "outputs": []
    },
    {
      "cell_type": "markdown",
      "metadata": {
        "id": "vWVp5gY9N_Nk"
      },
      "source": [
        "Then we will need a function that will download the poems for us"
      ]
    },
    {
      "cell_type": "code",
      "metadata": {
        "id": "Bk0GY2A5NTHo"
      },
      "source": [
        "import urllib.request\n",
        "\n",
        "def download_poem(url):\n",
        "  poems = []\n",
        "  with urllib.request.urlopen(url) as f: \n",
        "        for line in f:\n",
        "            line = line.decode(\"utf-8\") \n",
        "            line = line.strip()\n",
        "            if line:\n",
        "                poems.append(line)\n",
        "  return poems"
      ],
      "execution_count": 7,
      "outputs": []
    },
    {
      "cell_type": "markdown",
      "metadata": {
        "id": "8oJXMDd2Jjp0"
      },
      "source": [
        "Let's check out what one of these poems look like"
      ]
    },
    {
      "cell_type": "code",
      "metadata": {
        "id": "6NTRf4SzJmRY",
        "colab": {
          "base_uri": "https://localhost:8080/"
        },
        "outputId": "f7f46e2b-64d9-4a86-ca74-b22c6f922bc5"
      },
      "source": [
        "test_url = 'https://raw.githubusercontent.com/okfn/openmilton/master/miltondata/texts/poems.txt'\n",
        "poem = download_poem(test_url)\n",
        "\n",
        "print(len(poem))\n",
        "print(poem[:10])"
      ],
      "execution_count": 8,
      "outputs": [
        {
          "output_type": "stream",
          "name": "stdout",
          "text": [
            "6203\n",
            "['The Poetical Works of John Milton', 'PREFACE by the Rev. H. C. Beeching, M. A.', \"This edition of Milton's Poetry is a reprint, as careful as Editor\", 'and Printers have been able to make it, from the earliest printed', 'copies of the several poems.  First the 1645 volume of the', 'Minor Poems has been printed entire; then follow in order the', 'poems added in the reissue of 1673; the Paradise Lost, from the', \"edition of 1667; and the Paradise Regain'd and Samson\", 'Agonistes from the edition of 1671.', 'The most interesting portion of the book must be reckoned the']\n"
          ]
        }
      ]
    },
    {
      "cell_type": "markdown",
      "metadata": {
        "id": "Uq_aRF6IOF4o"
      },
      "source": [
        "Finally we will build out main function that puts the whole process together"
      ]
    },
    {
      "cell_type": "code",
      "metadata": {
        "id": "PVy1hTMq5IXF"
      },
      "source": [
        "def process_poems(url):\n",
        "    scores = []\n",
        "    poem = download_poem(url)\n",
        "    \n",
        "    for line in poem:\n",
        "        scores.append(get_sentiment(line))\n",
        "    return scores"
      ],
      "execution_count": 9,
      "outputs": []
    },
    {
      "cell_type": "markdown",
      "metadata": {
        "id": "_EE78VNqKY14"
      },
      "source": [
        "Let's build a hard task, like having to download and process multiple poems"
      ]
    },
    {
      "cell_type": "code",
      "metadata": {
        "id": "_vuxHqTFKeHJ",
        "colab": {
          "base_uri": "https://localhost:8080/"
        },
        "outputId": "e2ad689b-95ab-402b-c7db-6e9a9bda6dec"
      },
      "source": [
        "urls = ['https://raw.githubusercontent.com/okfn/openmilton/master/miltondata/texts/poems.txt']\n",
        "\n",
        "#Duplicating the list to make it larger\n",
        "for _ in range(0,3):\n",
        "  urls += urls\n",
        "\n",
        "print(len(urls))"
      ],
      "execution_count": 10,
      "outputs": [
        {
          "output_type": "stream",
          "name": "stdout",
          "text": [
            "8\n"
          ]
        }
      ]
    },
    {
      "cell_type": "markdown",
      "metadata": {
        "id": "Dac8UYGt_Jda"
      },
      "source": [
        "Now let's test how long it takes to process the sentiment for each line of our poems dataset\n",
        "\n",
        "We can use TQDM to show us the progress of any for-loop operation"
      ]
    },
    {
      "cell_type": "code",
      "metadata": {
        "id": "nNT03tbV_Rqk",
        "colab": {
          "base_uri": "https://localhost:8080/"
        },
        "outputId": "57eea53d-c7cf-4e1d-ea64-cf07c0bbefa0"
      },
      "source": [
        "#Serial Processing\n",
        "scores = []\n",
        "\n",
        "for url in tqdm(urls, position=0): #position=0 forces the bars into the same line when printing\n",
        "    scores += process_poems(url)\n"
      ],
      "execution_count": 11,
      "outputs": [
        {
          "output_type": "stream",
          "name": "stderr",
          "text": [
            "100%|██████████| 8/8 [00:07<00:00,  1.12it/s]\n"
          ]
        }
      ]
    },
    {
      "cell_type": "code",
      "source": [
        "import urllib.request\n",
        "\n",
        "def process_poems_tqdm(url):\n",
        "    scores = []\n",
        "    poems = []\n",
        "    with urllib.request.urlopen(url) as f: \n",
        "        for line in f:\n",
        "            line = line.decode(\"utf-8\") \n",
        "            line = line.strip()\n",
        "            if line:\n",
        "                poems.append(line)\n",
        "    \n",
        "    for line in poems:\n",
        "        scores.append(get_sentiment(line))\n",
        "    return scores"
      ],
      "metadata": {
        "id": "8HSSDCB_hKYK"
      },
      "execution_count": 20,
      "outputs": []
    },
    {
      "cell_type": "code",
      "metadata": {
        "id": "Woel8UbhBuhs",
        "colab": {
          "base_uri": "https://localhost:8080/",
          "height": 651
        },
        "outputId": "df7b23fe-966f-4ffe-fff1-b3bfc90edf6e"
      },
      "source": [
        "import functools\n",
        "\n",
        "scores = []\n",
        "\n",
        "pool = ProcessPool(nodes=3)\n",
        "\n",
        "for score in tqdm(pool.uimap(process_poems, urls), total=len(urls), position=0):\n",
        "  scores += score"
      ],
      "execution_count": 42,
      "outputs": [
        {
          "output_type": "stream",
          "name": "stderr",
          "text": [
            "  0%|          | 0/8 [00:00<?, ?it/s]\n"
          ]
        },
        {
          "output_type": "error",
          "ename": "NameError",
          "evalue": "ignored",
          "traceback": [
            "\u001b[0;31m---------------------------------------------------------------------------\u001b[0m",
            "\u001b[0;31mRemoteTraceback\u001b[0m                           Traceback (most recent call last)",
            "\u001b[0;31mRemoteTraceback\u001b[0m: \n\"\"\"\nTraceback (most recent call last):\n  File \"/usr/local/lib/python3.10/dist-packages/multiprocess/pool.py\", line 125, in worker\n    result = (True, func(*args, **kwds))\n  File \"/usr/local/lib/python3.10/dist-packages/pathos/helpers/mp_helper.py\", line 15, in <lambda>\n    func = lambda args: f(*args)\n  File \"<ipython-input-41-721c758af673>\", line 24, in process_poems\nNameError: name 'download_poem' is not defined\n\"\"\"",
            "\nThe above exception was the direct cause of the following exception:\n",
            "\u001b[0;31mNameError\u001b[0m                                 Traceback (most recent call last)",
            "\u001b[0;32m<ipython-input-42-53c8983034fe>\u001b[0m in \u001b[0;36m<cell line: 7>\u001b[0;34m()\u001b[0m\n\u001b[1;32m      5\u001b[0m \u001b[0mpool\u001b[0m \u001b[0;34m=\u001b[0m \u001b[0mProcessPool\u001b[0m\u001b[0;34m(\u001b[0m\u001b[0mnodes\u001b[0m\u001b[0;34m=\u001b[0m\u001b[0;36m3\u001b[0m\u001b[0;34m)\u001b[0m\u001b[0;34m\u001b[0m\u001b[0;34m\u001b[0m\u001b[0m\n\u001b[1;32m      6\u001b[0m \u001b[0;34m\u001b[0m\u001b[0m\n\u001b[0;32m----> 7\u001b[0;31m \u001b[0;32mfor\u001b[0m \u001b[0mscore\u001b[0m \u001b[0;32min\u001b[0m \u001b[0mtqdm\u001b[0m\u001b[0;34m(\u001b[0m\u001b[0mpool\u001b[0m\u001b[0;34m.\u001b[0m\u001b[0muimap\u001b[0m\u001b[0;34m(\u001b[0m\u001b[0mprocess_poems\u001b[0m\u001b[0;34m,\u001b[0m \u001b[0murls\u001b[0m\u001b[0;34m)\u001b[0m\u001b[0;34m,\u001b[0m \u001b[0mtotal\u001b[0m\u001b[0;34m=\u001b[0m\u001b[0mlen\u001b[0m\u001b[0;34m(\u001b[0m\u001b[0murls\u001b[0m\u001b[0;34m)\u001b[0m\u001b[0;34m,\u001b[0m \u001b[0mposition\u001b[0m\u001b[0;34m=\u001b[0m\u001b[0;36m0\u001b[0m\u001b[0;34m)\u001b[0m\u001b[0;34m:\u001b[0m\u001b[0;34m\u001b[0m\u001b[0;34m\u001b[0m\u001b[0m\n\u001b[0m\u001b[1;32m      8\u001b[0m   \u001b[0mscores\u001b[0m \u001b[0;34m+=\u001b[0m \u001b[0mscore\u001b[0m\u001b[0;34m\u001b[0m\u001b[0;34m\u001b[0m\u001b[0m\n",
            "\u001b[0;32m/usr/local/lib/python3.10/dist-packages/tqdm/std.py\u001b[0m in \u001b[0;36m__iter__\u001b[0;34m(self)\u001b[0m\n\u001b[1;32m   1176\u001b[0m \u001b[0;34m\u001b[0m\u001b[0m\n\u001b[1;32m   1177\u001b[0m         \u001b[0;32mtry\u001b[0m\u001b[0;34m:\u001b[0m\u001b[0;34m\u001b[0m\u001b[0;34m\u001b[0m\u001b[0m\n\u001b[0;32m-> 1178\u001b[0;31m             \u001b[0;32mfor\u001b[0m \u001b[0mobj\u001b[0m \u001b[0;32min\u001b[0m \u001b[0miterable\u001b[0m\u001b[0;34m:\u001b[0m\u001b[0;34m\u001b[0m\u001b[0;34m\u001b[0m\u001b[0m\n\u001b[0m\u001b[1;32m   1179\u001b[0m                 \u001b[0;32myield\u001b[0m \u001b[0mobj\u001b[0m\u001b[0;34m\u001b[0m\u001b[0;34m\u001b[0m\u001b[0m\n\u001b[1;32m   1180\u001b[0m                 \u001b[0;31m# Update and possibly print the progressbar.\u001b[0m\u001b[0;34m\u001b[0m\u001b[0;34m\u001b[0m\u001b[0m\n",
            "\u001b[0;32m/usr/local/lib/python3.10/dist-packages/multiprocess/pool.py\u001b[0m in \u001b[0;36mnext\u001b[0;34m(self, timeout)\u001b[0m\n\u001b[1;32m    871\u001b[0m         \u001b[0;32mif\u001b[0m \u001b[0msuccess\u001b[0m\u001b[0;34m:\u001b[0m\u001b[0;34m\u001b[0m\u001b[0;34m\u001b[0m\u001b[0m\n\u001b[1;32m    872\u001b[0m             \u001b[0;32mreturn\u001b[0m \u001b[0mvalue\u001b[0m\u001b[0;34m\u001b[0m\u001b[0;34m\u001b[0m\u001b[0m\n\u001b[0;32m--> 873\u001b[0;31m         \u001b[0;32mraise\u001b[0m \u001b[0mvalue\u001b[0m\u001b[0;34m\u001b[0m\u001b[0;34m\u001b[0m\u001b[0m\n\u001b[0m\u001b[1;32m    874\u001b[0m \u001b[0;34m\u001b[0m\u001b[0m\n\u001b[1;32m    875\u001b[0m     \u001b[0m__next__\u001b[0m \u001b[0;34m=\u001b[0m \u001b[0mnext\u001b[0m                    \u001b[0;31m# XXX\u001b[0m\u001b[0;34m\u001b[0m\u001b[0;34m\u001b[0m\u001b[0m\n",
            "\u001b[0;31mNameError\u001b[0m: name 'download_poem' is not defined"
          ]
        }
      ]
    },
    {
      "cell_type": "code",
      "source": [
        "import functools\n",
        "\n",
        "scores = []\n",
        "\n",
        "pool = ProcessPool()\n",
        "\n",
        "for score in tqdm(pool.uimap(process_poems, urls), total=len(urls), position=0):\n",
        "  scores += score"
      ],
      "metadata": {
        "id": "FAjL9TkXjN_9",
        "outputId": "7a259b2b-ae5d-4257-8235-8099790d3bcd",
        "colab": {
          "base_uri": "https://localhost:8080/"
        }
      },
      "execution_count": 43,
      "outputs": [
        {
          "output_type": "stream",
          "name": "stderr",
          "text": [
            "100%|██████████| 8/8 [00:05<00:00,  1.58it/s]\n"
          ]
        }
      ]
    },
    {
      "cell_type": "code",
      "source": [],
      "metadata": {
        "id": "4QaJp0r2kfsI"
      },
      "execution_count": null,
      "outputs": []
    }
  ]
}