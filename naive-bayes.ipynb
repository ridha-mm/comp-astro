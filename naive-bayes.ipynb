{
 "cells": [
  {
   "attachments": {},
   "cell_type": "markdown",
   "metadata": {},
   "source": [
    "# Tutorial Naive Bayes"
   ]
  },
  {
   "cell_type": "code",
   "execution_count": 1,
   "metadata": {},
   "outputs": [],
   "source": [
    "import numpy as np\n",
    "import pandas as pd\n",
    "import seaborn as sns\n",
    "import matplotlib.pyplot as plt"
   ]
  },
  {
   "cell_type": "code",
   "execution_count": 10,
   "metadata": {},
   "outputs": [],
   "source": [
    "di = pd.read_csv('directimaging_2023.03.23_03.57.03.csv', sep=',', comment='#')\n",
    "tess = pd.read_csv('TOI_2023.03.23_03.52.47.csv', sep=',', comment='#')"
   ]
  },
  {
   "cell_type": "code",
   "execution_count": 9,
   "metadata": {},
   "outputs": [
    {
     "data": {
      "text/plain": [
       "Index(['plntname', 'ra_str', 'ra', 'dec_str', 'dec', 'imdelthmag',\n",
       "       'imdelthmagerr', 'imdelthmaglim', 'imdeltjmag', 'imdeltjmagerr',\n",
       "       ...\n",
       "       'impltemperr1', 'impltemperr2', 'impltemplim', 'implradius',\n",
       "       'implradiuserr1', 'implradiuserr2', 'implradiuslim', 'immodel',\n",
       "       'immodeldef', 'imnotes'],\n",
       "      dtype='object', length=101)"
      ]
     },
     "execution_count": 9,
     "metadata": {},
     "output_type": "execute_result"
    }
   ],
   "source": [
    "di.columns"
   ]
  },
  {
   "cell_type": "code",
   "execution_count": null,
   "metadata": {},
   "outputs": [],
   "source": [
    "#di_ft = di[['col1','col2']]]"
   ]
  },
  {
   "attachments": {},
   "cell_type": "markdown",
   "metadata": {},
   "source": [
    "sns.pairplot(data, hue = 'Species');"
   ]
  }
 ],
 "metadata": {
  "kernelspec": {
   "display_name": "Python 3",
   "language": "python",
   "name": "python3"
  },
  "language_info": {
   "codemirror_mode": {
    "name": "ipython",
    "version": 3
   },
   "file_extension": ".py",
   "mimetype": "text/x-python",
   "name": "python",
   "nbconvert_exporter": "python",
   "pygments_lexer": "ipython3",
   "version": "3.8.10"
  },
  "orig_nbformat": 4
 },
 "nbformat": 4,
 "nbformat_minor": 2
}
