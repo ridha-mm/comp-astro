{
 "cells": [
  {
   "attachments": {},
   "cell_type": "markdown",
   "metadata": {},
   "source": [
    "# Interstellar communications\n",
    "\n",
    "Author: Ridha Fathima Mohideen Malik"
   ]
  },
  {
   "attachments": {},
   "cell_type": "markdown",
   "metadata": {},
   "source": [
    "## Overview"
   ]
  },
  {
   "attachments": {},
   "cell_type": "markdown",
   "metadata": {},
   "source": [
    "Cocconi - Morrison (1959) theorised that an extra terrestrial intelligence (ETI) would choose the frquency of communication to be a universal \"natural\" frequency and proposed 21 cm line (1420 MhZ) as a candidate. Many Search for ETI (SETI) projects have been around this frequency. The choice of radio frequency for communication seems reasonable as higher wavelengths require more power and are prone to absorption by interstellar medium and planetary atmospheres. The radio window for Earth's atmosphere is between $10^7$ and $10^{12}$ Hz. But the 21 cm line has a heavy galactic background. In this notebook, we will explore other proposed universal frequencies (Drake - Sagan (1973), Morimoto et al (1978), Sivaram et al(2017)) and their implication on instrumentations for us and the communicating ETI.\n",
    "\n",
    "Note: There are other theorised methods of interstellar communications like frequency modulation of spectra (Borra (2012)) and optical lasers (Clark - Cahoy (2018)). But for the purpose of this notebook, we are considering only direct signals in radio."
   ]
  },
  {
   "attachments": {},
   "cell_type": "markdown",
   "metadata": {},
   "source": [
    "### References\n",
    "\n",
    "- Cocconi and Morrison (1959), Searching for interstellar communications\n",
    "\n",
    "- Drake and Sagan (1973), Interstellar radio communications and the frequency selection problem\n",
    "\n",
    "- Morimoto, Hirabayashi and Jugaku (1978), Preferred frequency for interstellar communications\n",
    "\n",
    "- Sivaram, Arun and Kiren (2017), Alternative standard frequencies for interstellar communication"
   ]
  },
  {
   "cell_type": "code",
   "execution_count": 1,
   "metadata": {},
   "outputs": [],
   "source": [
    "# imports\n",
    "\n",
    "import numpy as np\n",
    "import pandas as pd\n",
    "import matplotlib.pyplot as plt"
   ]
  },
  {
   "attachments": {},
   "cell_type": "markdown",
   "metadata": {},
   "source": [
    "## Frequency selection"
   ]
  },
  {
   "attachments": {},
   "cell_type": "markdown",
   "metadata": {},
   "source": [
    "### Flux from source's star\n",
    "\n",
    "We take the assumptions of Cocconi - Morrison (1959) that we are looking for a source around a quiet Sun-like star. This assumption is from the hypothesis that the activity of the host star should be minimal for a civilisation to survive long enough to possess technological capabilities.\n",
    "\n",
    "For a star at a distance R, we get the flux F in a given frequency f:\n",
    "\n",
    "$$ {F_{star}} = 10^{-15}\\frac{f^2}{R^2} $$  \n"
   ]
  },
  {
   "attachments": {},
   "cell_type": "markdown",
   "metadata": {},
   "source": [
    "### Galactic background\n",
    "\n",
    "We now have to model the background in radio and account for extinction\n",
    "\n",
    "Cocconi - Morrison model isotropic galactic background as \n",
    "\n",
    "$$ F_{bg} = 10^{-12.5} \\frac{c^2}{f^3 l_d^2} $$\n"
   ]
  },
  {
   "attachments": {},
   "cell_type": "markdown",
   "metadata": {},
   "source": [
    "\n",
    "$$ \\frac{R}{l_d} = 10^{-10} f^{2.5}$$"
   ]
  },
  {
   "attachments": {},
   "cell_type": "markdown",
   "metadata": {},
   "source": [
    "### Limits\n",
    "\n",
    "The closest star, $\\alpha$-Centauri gives us an $R_{min} \\approx 10^{16}$ m $\\approx 4$ ly.\n",
    "\n",
    "If we are only looking at galactic neighbourhood, $R_{max} \\approx 10^{18}$ m $\\approx 100$ ly.\n",
    "\n",
    "Single dish radio telescopes like Arecibo and FAST have diameters of the order of 100s of meters. With radio arrays, we could reach up to an effective diameter of $10^4$ meters and with techniques like very long baseline interferometry, we could have a telescope the diameter of earth ($10^7$ meters). Besides the large diameter, interferometry is efficient in differentiating interference from Earth radio signals.\n",
    "\n",
    "Thus we estimate,  $(\\frac{R}{l_d})_{min} = 10^9$ and $(\\frac{R}{l_d})_{max} = 10^{16}$."
   ]
  },
  {
   "cell_type": "code",
   "execution_count": 3,
   "metadata": {},
   "outputs": [
    {
     "data": {
      "text/html": [
       "<div>\n",
       "<style scoped>\n",
       "    .dataframe tbody tr th:only-of-type {\n",
       "        vertical-align: middle;\n",
       "    }\n",
       "\n",
       "    .dataframe tbody tr th {\n",
       "        vertical-align: top;\n",
       "    }\n",
       "\n",
       "    .dataframe thead th {\n",
       "        text-align: right;\n",
       "    }\n",
       "</style>\n",
       "<table border=\"1\" class=\"dataframe\">\n",
       "  <thead>\n",
       "    <tr style=\"text-align: right;\">\n",
       "      <th></th>\n",
       "      <th>#source</th>\n",
       "      <th>freq(MHz)</th>\n",
       "      <th>authors</th>\n",
       "    </tr>\n",
       "  </thead>\n",
       "  <tbody>\n",
       "    <tr>\n",
       "      <th>0</th>\n",
       "      <td>H1</td>\n",
       "      <td>1420.000</td>\n",
       "      <td>cocconi-morrison+59</td>\n",
       "    </tr>\n",
       "    <tr>\n",
       "      <th>1</th>\n",
       "      <td>pi*H1</td>\n",
       "      <td>4462.336</td>\n",
       "      <td>blair+92</td>\n",
       "    </tr>\n",
       "    <tr>\n",
       "      <th>2</th>\n",
       "      <td>OH</td>\n",
       "      <td>1667.000</td>\n",
       "      <td>seti?</td>\n",
       "    </tr>\n",
       "    <tr>\n",
       "      <th>3</th>\n",
       "      <td>H2CO</td>\n",
       "      <td>4830.000</td>\n",
       "      <td>morimoto+78</td>\n",
       "    </tr>\n",
       "    <tr>\n",
       "      <th>4</th>\n",
       "      <td>universal_constants</td>\n",
       "      <td>2556.800</td>\n",
       "      <td>sivaram+17</td>\n",
       "    </tr>\n",
       "    <tr>\n",
       "      <th>5</th>\n",
       "      <td>planck_comb</td>\n",
       "      <td>190.887</td>\n",
       "      <td>wright+20</td>\n",
       "    </tr>\n",
       "    <tr>\n",
       "      <th>6</th>\n",
       "      <td>He3+</td>\n",
       "      <td>8666.565</td>\n",
       "      <td>bania-hood+91</td>\n",
       "    </tr>\n",
       "  </tbody>\n",
       "</table>\n",
       "</div>"
      ],
      "text/plain": [
       "               #source  freq(MHz)              authors\n",
       "0                   H1   1420.000  cocconi-morrison+59\n",
       "1                pi*H1   4462.336             blair+92\n",
       "2                   OH   1667.000                seti?\n",
       "3                 H2CO   4830.000          morimoto+78\n",
       "4  universal_constants   2556.800           sivaram+17\n",
       "5          planck_comb    190.887            wright+20\n",
       "6                 He3+   8666.565        bania-hood+91"
      ]
     },
     "execution_count": 3,
     "metadata": {},
     "output_type": "execute_result"
    }
   ],
   "source": [
    "# getting schelling points (word comes from Game theory)\n",
    "\n",
    "schelling = pd.read_csv(\"D:/comp-astro/comp-astro/exoplanet-data/schelling_points.txt\", sep =r\"\\t+|\\s+\", engine=\"python\")\n",
    "schelling"
   ]
  },
  {
   "cell_type": "code",
   "execution_count": 4,
   "metadata": {},
   "outputs": [
    {
     "data": {
      "text/html": [
       "<div>\n",
       "<style scoped>\n",
       "    .dataframe tbody tr th:only-of-type {\n",
       "        vertical-align: middle;\n",
       "    }\n",
       "\n",
       "    .dataframe tbody tr th {\n",
       "        vertical-align: top;\n",
       "    }\n",
       "\n",
       "    .dataframe thead th {\n",
       "        text-align: right;\n",
       "    }\n",
       "</style>\n",
       "<table border=\"1\" class=\"dataframe\">\n",
       "  <thead>\n",
       "    <tr style=\"text-align: right;\">\n",
       "      <th></th>\n",
       "      <th>#source</th>\n",
       "      <th>freq(MHz)</th>\n",
       "      <th>authors</th>\n",
       "      <th>R/l_d</th>\n",
       "    </tr>\n",
       "  </thead>\n",
       "  <tbody>\n",
       "    <tr>\n",
       "      <th>0</th>\n",
       "      <td>H1</td>\n",
       "      <td>1420.000</td>\n",
       "      <td>cocconi-morrison+59</td>\n",
       "      <td>7.598377e+12</td>\n",
       "    </tr>\n",
       "    <tr>\n",
       "      <th>1</th>\n",
       "      <td>pi*H1</td>\n",
       "      <td>4462.336</td>\n",
       "      <td>blair+92</td>\n",
       "      <td>1.330165e+14</td>\n",
       "    </tr>\n",
       "    <tr>\n",
       "      <th>2</th>\n",
       "      <td>OH</td>\n",
       "      <td>1667.000</td>\n",
       "      <td>seti?</td>\n",
       "      <td>1.134590e+13</td>\n",
       "    </tr>\n",
       "    <tr>\n",
       "      <th>3</th>\n",
       "      <td>H2CO</td>\n",
       "      <td>4830.000</td>\n",
       "      <td>morimoto+78</td>\n",
       "      <td>1.621317e+14</td>\n",
       "    </tr>\n",
       "    <tr>\n",
       "      <th>4</th>\n",
       "      <td>universal_constants</td>\n",
       "      <td>2556.800</td>\n",
       "      <td>sivaram+17</td>\n",
       "      <td>3.305536e+13</td>\n",
       "    </tr>\n",
       "    <tr>\n",
       "      <th>5</th>\n",
       "      <td>planck_comb</td>\n",
       "      <td>190.887</td>\n",
       "      <td>wright+20</td>\n",
       "      <td>5.034321e+10</td>\n",
       "    </tr>\n",
       "    <tr>\n",
       "      <th>6</th>\n",
       "      <td>He3+</td>\n",
       "      <td>8666.565</td>\n",
       "      <td>bania-hood+91</td>\n",
       "      <td>6.992259e+14</td>\n",
       "    </tr>\n",
       "  </tbody>\n",
       "</table>\n",
       "</div>"
      ],
      "text/plain": [
       "               #source  freq(MHz)              authors         R/l_d\n",
       "0                   H1   1420.000  cocconi-morrison+59  7.598377e+12\n",
       "1                pi*H1   4462.336             blair+92  1.330165e+14\n",
       "2                   OH   1667.000                seti?  1.134590e+13\n",
       "3                 H2CO   4830.000          morimoto+78  1.621317e+14\n",
       "4  universal_constants   2556.800           sivaram+17  3.305536e+13\n",
       "5          planck_comb    190.887            wright+20  5.034321e+10\n",
       "6                 He3+   8666.565        bania-hood+91  6.992259e+14"
      ]
     },
     "execution_count": 4,
     "metadata": {},
     "output_type": "execute_result"
    }
   ],
   "source": [
    "# estimating search capacity\n",
    "\n",
    "schelling[\"R/l_d\"] = 10**-10 * (schelling[\"freq(MHz)\"] * 10**6)**2.5\n",
    "schelling"
   ]
  },
  {
   "attachments": {},
   "cell_type": "markdown",
   "metadata": {},
   "source": [
    "$(\\frac{R}{l_d})$ obtained for the frequencies are within current human capacities."
   ]
  },
  {
   "cell_type": "code",
   "execution_count": 26,
   "metadata": {},
   "outputs": [
    {
     "data": {
      "text/plain": [
       "<matplotlib.legend.Legend at 0x21763fd9fa0>"
      ]
     },
     "execution_count": 26,
     "metadata": {},
     "output_type": "execute_result"
    },
    {
     "data": {
      "image/png": "[encoded data removed]",
      "text/plain": [
       "<Figure size 432x288 with 1 Axes>"
      ]
     },
     "metadata": {
      "needs_background": "light"
     },
     "output_type": "display_data"
    }
   ],
   "source": [
    "# visualising in a plot\n",
    "\n",
    "f = np.linspace(10**7, 10**12, 1000)\n",
    "rold = 10**-10 * f**2.5\n",
    "plt.plot(np.log10(f), np.log10(rold), c='k', label='theoretical')\n",
    "plt.axhline(9, linestyle='--', c='b', label='minimum search capacity')\n",
    "plt.axhline(16, linestyle='-.', c='b', label='maximum search capacity')\n",
    "plt.scatter(np.log10(schelling[\"freq(MHz)\"] * 10**6), np.log10(schelling[\"R/l_d\"]), \n",
    "            marker='o', c='orange', label='Schelling points')\n",
    "plt.xlabel('log frequency')\n",
    "plt.ylabel('log search capacity (R/l_d)')\n",
    "plt.legend()"
   ]
  },
  {
   "attachments": {},
   "cell_type": "markdown",
   "metadata": {},
   "source": [
    "## Power demands at source"
   ]
  },
  {
   "attachments": {},
   "cell_type": "markdown",
   "metadata": {},
   "source": [
    "Power required at source, Power = Flux x Area\n",
    "\n",
    "$$ \\frac{dW}{df} = 10^{-12.5} \\frac{c^5}{f^6} \\frac{R^2}{l_d^2} \\frac{1}{l_s^2} $$\n",
    "\n",
    "To minimise the power required, their capacity should be atleast maximum of ours and therefore, $l_s$ = $10^7$\n",
    "\n"
   ]
  },
  {
   "cell_type": "code",
   "execution_count": 29,
   "metadata": {},
   "outputs": [
    {
     "data": {
      "text/plain": [
       "<matplotlib.legend.Legend at 0x217644d7a00>"
      ]
     },
     "execution_count": 29,
     "metadata": {},
     "output_type": "execute_result"
    },
    {
     "data": {
      "image/png": "[encoded data removed]",
      "text/plain": [
       "<Figure size 432x288 with 1 Axes>"
      ]
     },
     "metadata": {
      "needs_background": "light"
     },
     "output_type": "display_data"
    }
   ],
   "source": [
    "# visualising in a plot\n",
    "\n",
    "## galactic background\n",
    "\n",
    "c = 3*10**8\n",
    "power_bg = 10**-12.5 * (c)**2 / ((f*10**6)**3)\n",
    "\n",
    "plt.plot(np.log10(f), np.log10(power_bg), label='galactic background')\n",
    "plt.xlabel(\"log Frequency (MHz)\")\n",
    "plt.ylabel(\"log Galactic background power(W/Hz)\")\n",
    "\n",
    "## power required at source\n",
    "\n",
    "ls = 10**7\n",
    "\n",
    "power_th = 10**-12.5 * c**5 * rold **2 / (ls**2 * (f)**6)\n",
    "schelling['power required'] = 10**-12.5 * c**5 * schelling[\"R/l_d\"]**2 / (ls**2 * (schelling[\"freq(MHz)\"]* 10**6)**6)\n",
    "\n",
    "plt.plot(np.log10(f), np.log10(power_th), c='k', label='theoretical')\n",
    "plt.scatter(np.log10(schelling[\"freq(MHz)\"]* 10**6), np.log10(schelling['power required']),\n",
    "            marker='o', c='orange', label='Schelling points')\n",
    "plt.xlabel('log frequency')\n",
    "plt.ylabel('log power required at source')\n",
    "plt.legend()"
   ]
  },
  {
   "attachments": {},
   "cell_type": "markdown",
   "metadata": {},
   "source": [
    "We notice something here, opposite to our initial assumption. Higher the frequency, lower the power required and hence potential choice for an ETI. This is because more power would be required to overcome the galactic background at low frequencies."
   ]
  },
  {
   "cell_type": "code",
   "execution_count": null,
   "metadata": {},
   "outputs": [],
   "source": []
  }
 ],
 "metadata": {
  "kernelspec": {
   "display_name": "Python 3",
   "language": "python",
   "name": "python3"
  },
  "language_info": {
   "codemirror_mode": {
    "name": "ipython",
    "version": 3
   },
   "file_extension": ".py",
   "mimetype": "text/x-python",
   "name": "python",
   "nbconvert_exporter": "python",
   "pygments_lexer": "ipython3",
   "version": "3.8.10"
  },
  "orig_nbformat": 4
 },
 "nbformat": 4,
 "nbformat_minor": 2
}
